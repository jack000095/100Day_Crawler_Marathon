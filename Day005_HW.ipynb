{
 "cells": [
  {
   "cell_type": "markdown",
   "metadata": {},
   "source": [
    "# API 資料串接 - 以 Dcard API 實作範例\n",
    "\n",
    "* 了解 Dcard API 使用方式與回傳內容\n",
    "* 撰寫程式存取 API 且解析 JSON 格式資料\n"
   ]
  },
  {
   "cell_type": "markdown",
   "metadata": {},
   "source": [
    "## 作業目標\n",
    "\n",
    "* 請利用 API: https://www.dcard.tw/_api/forums/pet/posts?popular=true 回答下列問題：\n",
    "\n",
    "1. 這個 API 一次會回傳幾筆資料？每一筆資料包含哪些欄位？\n",
    "2. 取出每一筆資料的「標題」、「貼文時間」、「留言人數」、「按讚人數」\n",
    "3. 計算熱門/非熱門文章的「平均留言人數」與「平均按讚人數」"
   ]
  },
  {
   "cell_type": "code",
   "execution_count": 23,
   "metadata": {},
   "outputs": [],
   "source": [
    "import requests\n",
    "import json\n",
    "\n",
    "popular_r = requests.get('https://www.dcard.tw/_api/forums/pet/posts?popular=true')\n",
    "lastest_r = requests.get('https://www.dcard.tw/_api/forums/pet/posts?popular=false')\n",
    "\n",
    "popular_r_json = json.loads(popular_r.text)\n",
    "lastest_r_json = json.loads(lastest_r.text)"
   ]
  },
  {
   "cell_type": "code",
   "execution_count": 24,
   "metadata": {},
   "outputs": [
    {
     "name": "stdout",
     "output_type": "stream",
     "text": [
      "資料數目:  30\n",
      "欄位: dict_keys(['id', 'title', 'excerpt', 'anonymousSchool', 'anonymousDepartment', 'pinned', 'forumId', 'replyId', 'createdAt', 'updatedAt', 'commentCount', 'likeCount', 'withNickname', 'tags', 'topics', 'meta', 'forumName', 'forumAlias', 'gender', 'school', 'department', 'replyTitle', 'mediaMeta', 'reactions', 'hidden', 'customStyle', 'isSuspiciousAccount', 'layout', 'withImages', 'withVideos', 'media', 'reportReasonText', 'postAvatar'])\n",
      "資料數目:  30\n",
      "欄位: dict_keys(['id', 'title', 'excerpt', 'anonymousSchool', 'anonymousDepartment', 'pinned', 'forumId', 'replyId', 'createdAt', 'updatedAt', 'commentCount', 'likeCount', 'withNickname', 'tags', 'topics', 'meta', 'forumName', 'forumAlias', 'gender', 'school', 'replyTitle', 'reportReason', 'mediaMeta', 'reactions', 'hidden', 'customStyle', 'isSuspiciousAccount', 'layout', 'withImages', 'withVideos', 'media', 'reportReasonText', 'postAvatar'])\n"
     ]
    }
   ],
   "source": [
    "# 1. 這個 API 一次會回傳幾筆資料？每一筆資料包含哪些欄位？\n",
    "print(\"資料數目: \", len(popular_r_json))\n",
    "print(\"欄位:\", popular_r_json[0].keys())\n",
    "\n",
    "print(\"資料數目: \", len(lastest_r_json))\n",
    "print(\"欄位:\", lastest_r_json[0].keys())"
   ]
  },
  {
   "cell_type": "code",
   "execution_count": 25,
   "metadata": {},
   "outputs": [
    {
     "name": "stdout",
     "output_type": "stream",
     "text": [
      "Popular:\n",
      "18歲雪納瑞還有多少明天 2019-12-13T18:28:25.842Z 19 651\n",
      "我們家的貓咪睡姿（圖多 2019-12-14T13:04:29.280Z 10 151\n",
      "台中南區 狗 協尋 2019-12-14T08:40:14.301Z 8 101\n",
      "當貓咪的生活 2019-12-14T06:21:33.399Z 3 63\n",
      "#圖 勇闖耶誕城 2019-12-14T18:06:41.262Z 4 58\n",
      "我的小刺蝟 2019-12-14T09:09:20.390Z 0 42\n",
      "新成員小黃金阿魯 2019-12-14T18:20:41.663Z 1 31\n",
      "愛貓貓來哦 2019-12-14T02:52:13.001Z 0 28\n",
      "厭世貓咪 2019-12-14T12:31:45.490Z 4 25\n",
      "老鼠給你們養真可憐 2019-12-14T07:11:15.809Z 37 21\n",
      "貓咪餐廳🐈❤️推薦給忙碌的你 2019-12-14T10:31:50.617Z 3 19\n",
      "一次要摸三隻不然很吵 2019-12-14T11:05:46.136Z 2 17\n",
      "養狗前請要做功課 2019-12-13T20:02:37.147Z 6 16\n",
      "桃園大溪狗狗走失 2019-12-14T13:11:06.874Z 0 14\n",
      "原來我養的是猴子呀😳 2019-12-14T06:16:19.442Z 2 14\n",
      "不要再給我尿床啦！ 2019-12-14T08:14:39.892Z 4 10\n",
      "悲劇！家貓被剪耳剃毛挨告不起訴 2019-12-13T21:32:18.181Z 7 10\n",
      "似曾相似的🤔🤔 2019-12-14T18:58:27.402Z 1 9\n",
      "高難度瑜伽🧘‍♀️ 2019-12-13T17:57:42.041Z 0 9\n",
      "超級黏爸的傲嬌貓貓🐈 2019-12-15T00:52:33.602Z 1 8\n",
      "#鼠 分享我最愛睡覺的秘密基地 2019-12-14T17:14:47.835Z 0 8\n",
      "流浪動物能不能安樂死？ 2019-12-14T10:06:03.090Z 30 8\n",
      "刺蝟年齡 2019-12-14T07:32:12.376Z 0 8\n",
      "這背景也太可愛了吧！ 2019-12-14T11:37:08.613Z 5 7\n",
      "hip dysplasia 奪去他自由 2019-12-14T08:43:47.950Z 3 7\n",
      "桃機走失狼犬求助安置 2019-12-14T18:36:40.356Z 2 6\n",
      "#貓 各種奇葩照 2019-12-14T12:02:56.712Z 0 6\n",
      "家中的小老大 2019-12-14T08:20:23.378Z 1 6\n",
      "孔雀魚嘴內側有一條紅線 2019-12-14T04:02:44.514Z 3 6\n",
      "為什麼遛貓不好？ 2019-12-14T14:46:32.022Z 13 5\n",
      "Lastest:\n",
      "我爸想喂野貓吃農藥 2019-12-15T04:20:43.807Z 0 1\n",
      "守宮的腹部🦎 2019-12-15T03:36:34.370Z 0 1\n",
      "今天坐火車看到的🐱 2019-12-15T03:23:00.164Z 1 0\n",
      "超級黏爸的傲嬌貓貓🐈 2019-12-15T00:52:33.602Z 1 8\n",
      "台南有好心人收養貓咪嗎底下留言貓咪太多了 2019-12-14T23:22:33.728Z 13 4\n",
      "紅貴賓一直抓癢，吃東西會吐 2019-12-14T22:40:51.664Z 2 2\n",
      "求解 三線鼠ಠ_ಠ 2019-12-14T19:32:20.356Z 3 0\n",
      "幼貓喝奶喝到肚子很大 2019-12-14T19:07:14.768Z 2 1\n",
      "影片裡的東西叫啥？ 2019-12-14T19:03:54.248Z 1 3\n",
      "似曾相似的🤔🤔 2019-12-14T18:58:27.402Z 1 9\n",
      "救救我的貓 2019-12-14T18:39:03.285Z 6 1\n",
      "桃機走失狼犬求助安置 2019-12-14T18:36:40.356Z 2 6\n",
      "新成員小黃金阿魯 2019-12-14T18:20:41.663Z 1 31\n",
      "貓就是這麼擊敗 2019-12-14T18:08:40.822Z 1 2\n",
      "#圖 勇闖耶誕城 2019-12-14T18:06:41.262Z 4 60\n",
      "離家出走的兩隻狗 2019-12-14T17:47:51.087Z 1 4\n",
      "我可能活不過今晚...... 2019-12-14T17:35:25.405Z 3 3\n",
      "保護毛孩！大家請勿模仿！拒看！ 2019-12-14T17:27:22.284Z 1 4\n",
      "#鼠 分享我最愛睡覺的秘密基地 2019-12-14T17:14:47.835Z 0 8\n",
      "誰家的小黑走失了 2019-12-14T17:01:10.733Z 0 4\n",
      "代言麥當勞 2019-12-14T16:56:15.241Z 0 2\n",
      "家裡七隻狗勾的故事-瑪爾濟斯跟臘腸！ 2019-12-14T16:53:21.900Z 0 0\n",
      "我家的貓會過胖嗎？ 2019-12-14T15:25:11.749Z 4 2\n",
      "#請益 新竹貓咪美容 2019-12-14T15:23:35.766Z 1 1\n",
      "#問 狗狗攻擊問題 2019-12-14T15:05:47.300Z 3 0\n",
      "可愛的偷窺狂喵星人 2019-12-14T15:02:32.342Z 0 2\n",
      "#問 隔空抓藥（誤 2019-12-14T14:49:54.092Z 2 2\n",
      "為什麼遛貓不好？ 2019-12-14T14:46:32.022Z 13 5\n",
      "急！ 現在不知道可以問誰所以只好來這問😭 2019-12-14T13:53:57.452Z 7 2\n",
      "桃園大溪狗狗走失 2019-12-14T13:11:06.874Z 0 14\n"
     ]
    }
   ],
   "source": [
    "# 2. 取出每一筆資料的「標題」、「貼文時間」、「留言人數」、「按讚人數」\n",
    "print(\"Popular:\")\n",
    "for post in popular_r_json:\n",
    "    print(post['title'], post['createdAt'], post['commentCount'], post['likeCount'],)\n",
    "\n",
    "print(\"Lastest:\")\n",
    "for post in lastest_r_json:\n",
    "    print(post['title'], post['createdAt'], post['commentCount'], post['likeCount'],)"
   ]
  },
  {
   "cell_type": "code",
   "execution_count": 27,
   "metadata": {},
   "outputs": [
    {
     "name": "stdout",
     "output_type": "stream",
     "text": [
      "Popular:\n",
      "Average commentCount and likeCount of popular Posts: 5.633333333333334 45.46666666666667\n",
      "Lastest:\n",
      "Average commentCount and likeCount of lastest Posts: 2.433333333333333 6.066666666666666\n"
     ]
    }
   ],
   "source": [
    "# 3. 計算熱門/非熱門文章的「平均留言人數」與「平均按讚人數」\n",
    "print(\"Popular:\")\n",
    "popular_total_commentCount = 0\n",
    "popular_total_likeCount = 0\n",
    "for post in popular_r_json:\n",
    "    popular_total_commentCount += post['commentCount']\n",
    "    popular_total_likeCount += post['likeCount']\n",
    "#     print(post['title'], post['createdAt'], post['commentCount'], post['likeCount'],)\n",
    "print(\"Average commentCount and likeCount of popular Posts:\", \n",
    "      popular_total_commentCount/len(popular_r_json),\n",
    "      popular_total_likeCount/len(popular_r_json),\n",
    "     )\n",
    "    \n",
    "print(\"Lastest:\")\n",
    "lastest_total_commentCount = 0\n",
    "lastest_total_likeCount = 0\n",
    "for post in lastest_r_json:\n",
    "    lastest_total_commentCount += post['commentCount']\n",
    "    lastest_total_likeCount += post['likeCount']\n",
    "#     print(post['title'], post['createdAt'], post['commentCount'], post['likeCount'],)\n",
    "print(\"Average commentCount and likeCount of lastest Posts:\", \n",
    "      lastest_total_commentCount/len(lastest_r_json),\n",
    "      lastest_total_likeCount/len(lastest_r_json),\n",
    "     )"
   ]
  },
  {
   "cell_type": "code",
   "execution_count": null,
   "metadata": {},
   "outputs": [],
   "source": []
  },
  {
   "cell_type": "code",
   "execution_count": null,
   "metadata": {},
   "outputs": [],
   "source": []
  }
 ],
 "metadata": {
  "kernelspec": {
   "display_name": "Python 3",
   "language": "python",
   "name": "python3"
  },
  "language_info": {
   "codemirror_mode": {
    "name": "ipython",
    "version": 3
   },
   "file_extension": ".py",
   "mimetype": "text/x-python",
   "name": "python",
   "nbconvert_exporter": "python",
   "pygments_lexer": "ipython3",
   "version": "3.7.4"
  }
 },
 "nbformat": 4,
 "nbformat_minor": 2
}
