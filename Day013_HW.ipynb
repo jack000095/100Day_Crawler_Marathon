{
 "cells": [
  {
   "cell_type": "markdown",
   "metadata": {},
   "source": [
    "# PTT 網路爬蟲實作練習\n",
    "\n",
    "\n",
    "* 能夠利用 Request + BeatifulSour 撰寫爬蟲，並存放到合適的資料結構\n"
   ]
  },
  {
   "cell_type": "markdown",
   "metadata": {},
   "source": [
    "## 作業目標\n",
    "\n",
    "根據範例 ，完成以下問題：\n",
    "\n",
    "* ① 印出最新文章的「作者」「標題」「時間」\n",
    "* ② 印出第一頁所有文章的「作者」「標題」「時間」\n"
   ]
  },
  {
   "cell_type": "markdown",
   "metadata": {},
   "source": [
    "### ① 印出最新文章的「作者」「標題」「時間」"
   ]
  },
  {
   "cell_type": "code",
   "execution_count": 11,
   "metadata": {},
   "outputs": [
    {
     "name": "stdout",
     "output_type": "stream",
     "text": [
      "[BOX ] Pelicans 113:123 Lakers 數據\n",
      "！有缺資料\n"
     ]
    }
   ],
   "source": [
    "import requests\n",
    "from bs4 import BeautifulSoup\n",
    "\n",
    "url = 'https://www.ptt.cc/bbs/NBA/index.html'\n",
    "r = requests.get(url)\n",
    "\n",
    "soup = BeautifulSoup(r.text, \"html5lib\")\n",
    "\n",
    "d = soup.find_all(class_=\"title\")[0]\n",
    "    \n",
    "print(d.text.replace('\\t', '').replace('\\n', ''))\n",
    "try:\n",
    "    r = BeautifulSoup(requests.get('https://www.ptt.cc'+d.find('a')['href']).text, \"html5lib\")\n",
    "    AMVs = r.find_all(class_='article-meta-value')\n",
    "    print(\"作者:\", AMVs[0].text)\n",
    "    print(\"標題:\", AMVs[2].text)\n",
    "    print(\"時間:\", AMVs[3].text)\n",
    "except:\n",
    "    print(\"！有缺資料\")\n"
   ]
  },
  {
   "cell_type": "markdown",
   "metadata": {},
   "source": [
    "### ② 印出第一頁所有文章的「作者」「標題」「時間」"
   ]
  },
  {
   "cell_type": "code",
   "execution_count": 13,
   "metadata": {},
   "outputs": [
    {
     "name": "stdout",
     "output_type": "stream",
     "text": [
      "[BOX ] Pelicans 113:123 Lakers 數據\n",
      "[新聞] Logo Man大讚唐西奇會超越德佬\n",
      "作者: currykukuo (陳菊濕汗)\n",
      "標題: [新聞] Logo Man大讚唐西奇會超越德佬\n",
      "時間: Sat Jan  4 14:30:02 2020\n",
      "[新聞] 首返湖人主場 英格倫：夢想成真之地\n",
      "作者: s27052705 (小飽)\n",
      "標題: [新聞] 首返湖人主場 英格倫：夢想成真之地\n",
      "時間: Sat Jan  4 14:43:20 2020\n",
      "[討論] 對手得分後誰發底線球有差嗎\n",
      "作者: zxy472 (台中劉以豪)\n",
      "標題: [討論] 對手得分後誰發底線球有差嗎\n",
      "時間: Sat Jan  4 15:17:01 2020\n",
      "[外絮] Trae Young對被Marcus Smart跨過的反應\n",
      "作者: pneumo (超☆冒險蓋)\n",
      "標題: [外絮] Trae Young對被Marcus Smart跨過的反應\n",
      "時間: Sat Jan  4 15:26:48 2020\n",
      "[情報] James Harden 生涯三分進球數達到2200顆\n",
      "作者: thnlkj0665 (灰色地帶)\n",
      "標題: [情報] James Harden 生涯三分進球數達到2200顆\n",
      "時間: Sat Jan  4 15:52:31 2020\n",
      "[花邊] LeBron限時動態\n",
      "作者: bbbyes123 (冬日將至)\n",
      "標題: [花邊] LeBron限時動態\n",
      "時間: Sat Jan  4 16:17:46 2020\n",
      "[討論] C羅是不是足球界的詹姆斯？\n",
      "作者: whu946102 (LPJISGOD)\n",
      "標題: [討論] C羅是不是足球界的詹姆斯？\n",
      "時間: Sat Jan  4 16:22:46 2020\n",
      "Re: [花邊] LeBron限時動態\n",
      "作者: DarkApplePie (黑林檎派)\n",
      "標題: Re: [花邊] LeBron限時動態\n",
      "時間: Sat Jan  4 16:29:29 2020\n",
      "[公告] 板規v6.8\n",
      "[公告] 樂透取消及未來不再開啟樂透\n",
      "作者: Vedan (味丹)\n",
      "標題: [公告] 樂透取消及未來不再開啟樂透\n",
      "時間: Mon Jun 24 15:08:02 2019\n",
      "[公告] 版主上任相關事項 \n",
      "作者: qazwsx879345 (Rajon Rondo)\n",
      "標題: [公告] 版主上任相關事項\n",
      "時間: Fri Oct 25 10:44:03 2019\n",
      "[情報] SEASON Schedule 賽程 January 19–20\n",
      "作者: Acetoxy (阿斯)\n",
      "標題: [情報] SEASON Schedule 賽程 January 19–20\n",
      "時間: Fri Jan  3 01:37:35 2020\n"
     ]
    }
   ],
   "source": [
    "import requests\n",
    "from bs4 import BeautifulSoup\n",
    "\n",
    "url = 'https://www.ptt.cc/bbs/NBA/index.html'\n",
    "r = requests.get(url)\n",
    "\n",
    "soup = BeautifulSoup(r.text, \"html5lib\")\n",
    "\n",
    "for d in soup.find_all(class_=\"title\"):\n",
    "    print(d.text.replace('\\t', '').replace('\\n', ''))\n",
    "    try:\n",
    "        r = BeautifulSoup(requests.get('https://www.ptt.cc'+d.find('a')['href']).text, \"html5lib\")\n",
    "        AMVs = r.find_all(class_='article-meta-value')\n",
    "        print(\"作者:\", AMVs[0].text)\n",
    "        print(\"標題:\", AMVs[2].text)\n",
    "        print(\"時間:\", AMVs[3].text)\n",
    "    except:\n",
    "        continue\n"
   ]
  },
  {
   "cell_type": "markdown",
   "metadata": {},
   "source": [
    "### ③ 試著爬爬看其他版的文章"
   ]
  },
  {
   "cell_type": "code",
   "execution_count": 20,
   "metadata": {},
   "outputs": [
    {
     "name": "stdout",
     "output_type": "stream",
     "text": [
      "[食記] 新北市早餐/早午餐懶人包\n",
      "作者: JeremyKSKGA (Jeremy以食為天)\n",
      "標題: [食記] 新北市早餐/早午餐懶人包\n",
      "時間: Sat Jan  4 08:32:01 2020\n",
      "[食記] 高雄 巴特里爆漿餐包賣咖啡啦\n",
      "作者: pink02 ()\n",
      "標題: [食記] 高雄 巴特里爆漿餐包賣咖啡啦\n",
      "時間: Sat Jan  4 08:39:44 2020\n",
      "[食記] 彰化 洪維身蚵仔炸 國宴小吃台式蚵仔披薩\n",
      "作者: derek0323 (Deric)\n",
      "標題: [食記] 彰化 洪維身蚵仔炸 國宴小吃台式蚵仔披薩\n",
      "時間: Sat Jan  4 10:19:52 2020\n",
      "[食記] 台北 愛弟豆花\n",
      "作者: leafphoto (葉影瓶像_里夫)\n",
      "標題: [食記] 台北 愛弟豆花\n",
      "時間: Sat Jan  4 10:46:03 2020\n",
      "[食記] 台北 華星冰室：一日系列的招牌炒蛋果然\n",
      "作者: happy520 (快樂我愛你)\n",
      "標題: [食記] 台北 華星冰室：一日系列的招牌炒蛋果然名不虛傳\n",
      "時間: Sat Jan  4 10:51:47 2020\n",
      "[食記] 台北 祥和蔬食 米其林推薦唯一素食\n",
      "作者: rich78103 (嘰嘰喳喳)\n",
      "標題: [食記] 祥和蔬食精緻料理 米其林推薦唯一素食\n",
      "時間: Sat Jan  4 13:22:06 2020\n",
      "[食記] 東京 新宿 湯咖哩 Tokyo Dominica\n",
      "作者: Furella (Furella)\n",
      "標題: [食記] 東京 新宿 湯咖哩 Tokyo Dominica\n",
      "時間: Sat Jan  4 14:16:49 2020\n",
      "[食記] 福岡-運河城旁國產牛燒肉-WEST\n",
      "作者: Guyinkt (love that)\n",
      "標題: [食記] 福岡-運河城旁國產牛燒肉-WEST\n",
      "時間: Sat Jan  4 14:42:14 2020\n",
      "[食記] 彰化 芳月亭食堂 六十年台菜老店轉型\n",
      "作者: gochi2100 (魏朱吃吃，餵豬吃吃)\n",
      "標題: [食記] 彰化 芳月亭食堂 六十年台菜老店轉型\n",
      "時間: Sat Jan  4 15:11:10 2020\n",
      "[食記] 韓國釜山 白鍾元的石拜基家烤肉 平價連鎖\n",
      "作者: ImKSW (ImKSW)\n",
      "標題: [食記] 韓國釜山 白鍾元的石拜基家烤肉 平價連鎖\n",
      "時間: Sat Jan  4 15:40:12 2020\n",
      "[食記] 長榮皇璽桂冠艙飛機餐 SEA-TPE 聖誕好運\n",
      "作者: Sherlock56 (六月椿)\n",
      "標題: [食記] 長榮皇璽桂冠艙飛機餐 SEA-TPE 聖誕好運\n",
      "時間: Sat Jan  4 16:18:57 2020\n",
      "[公告] Food板 板規 V3.91\n",
      "作者: Dilbert (寧靜致遠)\n",
      "標題: [公告] Food板 板規 V3.9\n",
      "時間: Sun Dec 16 23:59:37 2012\n",
      "[公告] 發文請在標題加上地區及提供地址電話。^^\n",
      "作者: bluefish (夏日假期。)\n",
      "標題: [公告] 發文時，請大家在標題加上地區以及提供地址電話。^^\n",
      "時間: Fri Sep 28 09:53:44 2007\n",
      "[公告] 文章被刪除者請洽精華區的資源回收桶\n",
      "作者: Dilbert (嘻)\n",
      "標題: [公告] 板面刪文後處置措施定案\n",
      "時間: Sat Oct  1 12:17:05 2005\n",
      "[公告] 新增板規22：發文禁附延伸閱讀連結\n",
      "作者: Dilbert (無所住而生其心)\n",
      "標題: [公告] 延伸閱讀管理結果定案＆新增板規22\n",
      "時間: Sun Jun  4 07:27:45 2017\n"
     ]
    }
   ],
   "source": [
    "import requests\n",
    "from bs4 import BeautifulSoup\n",
    "\n",
    "url = 'https://www.ptt.cc/bbs/FOOD/index.html'\n",
    "r = requests.get(url)\n",
    "\n",
    "soup = BeautifulSoup(r.text, \"html5lib\")\n",
    "\n",
    "for d in soup.find_all(class_=\"title\"):\n",
    "    print(d.text.replace('\\t', '').replace('\\n', ''))\n",
    "    try:\n",
    "        r = BeautifulSoup(requests.get('https://www.ptt.cc'+d.find('a')['href']).text, \"html5lib\")\n",
    "        AMVs = r.find_all(class_='article-meta-value')\n",
    "        print(\"作者:\", AMVs[0].text)\n",
    "        print(\"標題:\", AMVs[2].text)\n",
    "        print(\"時間:\", AMVs[3].text)\n",
    "    except:\n",
    "        continue\n"
   ]
  }
 ],
 "metadata": {
  "kernelspec": {
   "display_name": "Python 3",
   "language": "python",
   "name": "python3"
  },
  "language_info": {
   "codemirror_mode": {
    "name": "ipython",
    "version": 3
   },
   "file_extension": ".py",
   "mimetype": "text/x-python",
   "name": "python",
   "nbconvert_exporter": "python",
   "pygments_lexer": "ipython3",
   "version": "3.7.5"
  }
 },
 "nbformat": 4,
 "nbformat_minor": 2
}
